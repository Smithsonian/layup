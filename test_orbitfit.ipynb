{
 "cells": [
  {
   "cell_type": "markdown",
   "metadata": {},
   "source": [
    "# DELETE THIS BEFORE MERGING TO MAIN"
   ]
  },
  {
   "cell_type": "code",
   "execution_count": null,
   "metadata": {},
   "outputs": [],
   "source": [
    "from layup.orbitfit import orbitfit_cli"
   ]
  },
  {
   "cell_type": "code",
   "execution_count": null,
   "metadata": {},
   "outputs": [],
   "source": [
    "orbitfit_cli(\n",
    "    input=\"/Users/drew/code/layup/100_random_mpc_ADES_latest_provid_only.csv\",\n",
    "    input_file_format=\"ADES_csv\",\n",
    "    output_file_stem=\"output\",\n",
    "    output_file_format=\"csv\",\n",
    "    chunk_size=10_000,\n",
    "    num_workers=2,\n",
    "    cli_args=None,\n",
    ")"
   ]
  }
 ],
 "metadata": {
  "kernelspec": {
   "display_name": "layup",
   "language": "python",
   "name": "python3"
  },
  "language_info": {
   "codemirror_mode": {
    "name": "ipython",
    "version": 3
   },
   "file_extension": ".py",
   "mimetype": "text/x-python",
   "name": "python",
   "nbconvert_exporter": "python",
   "pygments_lexer": "ipython3",
   "version": "3.12.9"
  }
 },
 "nbformat": 4,
 "nbformat_minor": 2
}
