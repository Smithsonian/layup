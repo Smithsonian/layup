{
 "cells": [
  {
   "cell_type": "code",
   "execution_count": null,
   "id": "42eea4ab",
   "metadata": {},
   "outputs": [],
   "source": [
    "from layup import routines\n",
    "import numpy as np\n",
    "import os\n",
    "\n",
    "os.getcwd()"
   ]
  },
  {
   "cell_type": "code",
   "execution_count": null,
   "id": "85ca2528",
   "metadata": {},
   "outputs": [],
   "source": [
    "def AD_vec(vec):\n",
    "    x, y, z = vec\n",
    "    Ax = z\n",
    "    Ay = 0.0\n",
    "    Az = -x\n",
    "    A = np.sqrt(Ax * Ax + Ay * Ay + Az * Az)\n",
    "    Ax /= A\n",
    "    Ay /= A\n",
    "    Az /= A\n",
    "    Dx = -x * y\n",
    "    Dy = x * x + z * z\n",
    "    Dz = -z * y\n",
    "    D = np.sqrt(Dx * Dx + Dy * Dy + Dz * Dz)\n",
    "    Dx /= D\n",
    "    Dy /= D\n",
    "    Dz /= D\n",
    "    return ([Ax, Ay, Az], [Dx, Dy, Dz])"
   ]
  },
  {
   "cell_type": "code",
   "execution_count": null,
   "id": "8627c2c8",
   "metadata": {},
   "outputs": [],
   "source": [
    "obs_list = []\n",
    "with open(\"/Users/mholman/03666_out.txt\") as file:\n",
    "    for i, line in enumerate(file):\n",
    "        objID, obsCode, mag, filt, jd_tdb, rho_x, rho_y, rho_z, xe, ye, ze, ast_unc = line.rstrip().split()\n",
    "        jd_tdb = float(jd_tdb)\n",
    "        rho_x, rho_y, rho_z = float(rho_x), float(rho_y), float(rho_z)\n",
    "        xe, ye, ze = float(xe), float(ye), float(ze)\n",
    "        ast_unc = float(ast_unc) / 206265\n",
    "        Av, Dv = AD_vec((rho_x, rho_y, rho_z))\n",
    "        rho = [rho_x, rho_y, rho_z]\n",
    "        re = [xe, ye, ze]\n",
    "        ve = [0.0, 0.0, 0.0]\n",
    "        obs = routines.Observation(jd_tdb, re, ve, rho, Av, Dv, ast_unc, ast_unc)\n",
    "        obs_list.append(obs)"
   ]
  },
  {
   "cell_type": "code",
   "execution_count": null,
   "id": "2e9d76a5",
   "metadata": {},
   "outputs": [],
   "source": [
    "GMtotal = 0.0002963092748799319\n",
    "AU_M = 149597870700\n",
    "SPEED_OF_LIGHT = 2.99792458e8 * 86400.0 / AU_M"
   ]
  },
  {
   "cell_type": "raw",
   "id": "a21531a3",
   "metadata": {},
   "source": [
    "x = routines.run_from_files(\"/Users/mholman/Library/Caches/layup/\", obs_list)"
   ]
  },
  {
   "cell_type": "code",
   "execution_count": null,
   "id": "977f0cda",
   "metadata": {},
   "outputs": [],
   "source": [
    "solns = routines.gauss(GMtotal, obs_list[4300], obs_list[4308], obs_list[4311], 0.0001, SPEED_OF_LIGHT)"
   ]
  },
  {
   "cell_type": "code",
   "execution_count": null,
   "id": "d0c639fc",
   "metadata": {},
   "outputs": [],
   "source": [
    "assist_ephem = routines.get_ephem(\"/Users/mholman/Library/Caches/layup/\")"
   ]
  },
  {
   "cell_type": "code",
   "execution_count": null,
   "id": "ec18d0f2",
   "metadata": {},
   "outputs": [],
   "source": [
    "x = routines.run_from_vector_with_ic(assist_ephem, solns[0], obs_list[-40:])"
   ]
  },
  {
   "cell_type": "code",
   "execution_count": null,
   "id": "48cee547",
   "metadata": {},
   "outputs": [],
   "source": [
    "x = routines.run_from_vector_with_ic(assist_ephem, x, obs_list)"
   ]
  },
  {
   "cell_type": "code",
   "execution_count": null,
   "id": "d5631a76",
   "metadata": {},
   "outputs": [],
   "source": []
  },
  {
   "cell_type": "code",
   "execution_count": null,
   "id": "edee35de",
   "metadata": {},
   "outputs": [],
   "source": [
    "x = routines.run_from_vector(assist_ephem, obs_list)"
   ]
  },
  {
   "cell_type": "code",
   "execution_count": null,
   "id": "f89c015e",
   "metadata": {},
   "outputs": [],
   "source": [
    "x.dof, x.niter, x.state, x.csq, x.epoch"
   ]
  },
  {
   "cell_type": "code",
   "execution_count": null,
   "id": "f82e01e9",
   "metadata": {},
   "outputs": [],
   "source": []
  }
 ],
 "metadata": {
  "kernelspec": {
   "display_name": "Python 3 (ipykernel)",
   "language": "python",
   "name": "python3"
  },
  "language_info": {
   "codemirror_mode": {
    "name": "ipython",
    "version": 3
   },
   "file_extension": ".py",
   "mimetype": "text/x-python",
   "name": "python",
   "nbconvert_exporter": "python",
   "pygments_lexer": "ipython3",
   "version": "3.11.0"
  }
 },
 "nbformat": 4,
 "nbformat_minor": 5
}
