{
 "cells": [
  {
   "cell_type": "code",
   "execution_count": 1,
   "id": "42eea4ab",
   "metadata": {},
   "outputs": [
    {
     "data": {
      "text/plain": [
       "'/Users/mholman/layup'"
      ]
     },
     "execution_count": 1,
     "metadata": {},
     "output_type": "execute_result"
    }
   ],
   "source": [
    "from layup import routines\n",
    "import numpy as np\n",
    "import os\n",
    "\n",
    "\n",
    "GMtotal = 0.0002963092748799319\n",
    "AU_M = 149597870700\n",
    "SPEED_OF_LIGHT = 2.99792458e8 * 86400.0 / AU_M\n",
    "\n",
    "os.getcwd()"
   ]
  },
  {
   "cell_type": "code",
   "execution_count": 2,
   "id": "85ca2528",
   "metadata": {},
   "outputs": [],
   "source": [
    "def AD_vec(vec):\n",
    "    x, y, z = vec\n",
    "    Ax = z\n",
    "    Ay = 0.0\n",
    "    Az = -x\n",
    "    A = np.sqrt(Ax*Ax + Ay*Ay + Az*Az)\n",
    "    Ax /= A\n",
    "    Ay /= A\n",
    "    Az /= A\n",
    "    Dx = -x*y\n",
    "    Dy = x*x + z*z\n",
    "    Dz = -z*y\n",
    "    D = np.sqrt(Dx*Dx + Dy*Dy + Dz*Dz)\n",
    "    Dx /= D\n",
    "    Dy /= D\n",
    "    Dz /= D\n",
    "    return ([Ax, Ay, Az], [Dx, Dy, Dz])"
   ]
  },
  {
   "cell_type": "code",
   "execution_count": 3,
   "id": "8627c2c8",
   "metadata": {},
   "outputs": [],
   "source": [
    "obs_list = []\n",
    "with open('/Users/mholman/03666_out.txt') as file:\n",
    "    for i, line in enumerate(file):\n",
    "        objID, obsCode, mag, filt, jd_tdb, rho_x, rho_y, rho_z, xe, ye, ze, ast_unc = line.rstrip().split()\n",
    "        jd_tdb = float(jd_tdb)\n",
    "        rho_x, rho_y, rho_z = float(rho_x), float(rho_y), float(rho_z)\n",
    "        xe, ye, ze = float(xe), float(ye), float(ze)\n",
    "        ast_unc = float(ast_unc)/206265\n",
    "        Av, Dv = AD_vec((rho_x, rho_y, rho_z))\n",
    "        rho = [rho_x, rho_y, rho_z]\n",
    "        re = [xe, ye, ze]\n",
    "        ve = [0., 0., 0.]\n",
    "        obs = routines.Observation(jd_tdb, re, ve, rho, Av, Dv, ast_unc, ast_unc)\n",
    "        obs_list.append(obs)\n",
    "\n",
    "\n",
    "        "
   ]
  },
  {
   "cell_type": "code",
   "execution_count": 4,
   "id": "eb9efe66",
   "metadata": {},
   "outputs": [],
   "source": [
    "solns = routines.gauss(GMtotal, obs_list[4300], obs_list[4308], obs_list[4311], 0.0001, SPEED_OF_LIGHT)"
   ]
  },
  {
   "cell_type": "code",
   "execution_count": 5,
   "id": "aee3e4f5",
   "metadata": {},
   "outputs": [
    {
     "data": {
      "text/plain": [
       "'gauss'"
      ]
     },
     "execution_count": 5,
     "metadata": {},
     "output_type": "execute_result"
    }
   ],
   "source": [
    "solns[0].method"
   ]
  },
  {
   "cell_type": "code",
   "execution_count": 6,
   "id": "b10a8923",
   "metadata": {},
   "outputs": [],
   "source": [
    "assist_ephem = routines.get_ephem(\"/Users/mholman/Library/Caches/layup/\")"
   ]
  },
  {
   "cell_type": "code",
   "execution_count": 7,
   "id": "b28e00b3",
   "metadata": {},
   "outputs": [
    {
     "name": "stdout",
     "output_type": "stream",
     "text": [
      "obs_cov: \n",
      " 2.94498e-12 -1.29453e-12\n",
      "-1.29453e-12  1.77815e-12\n",
      "obs_cov: \n",
      "2.17541e-12 -1.2471e-12\n",
      "-1.2471e-12  2.0049e-12\n"
     ]
    }
   ],
   "source": [
    "x = routines.run_from_vector_with_ic(assist_ephem, solns[0], obs_list[-100:])"
   ]
  },
  {
   "cell_type": "code",
   "execution_count": 8,
   "id": "f89c015e",
   "metadata": {},
   "outputs": [
    {
     "data": {
      "text/plain": [
       "(194, 7, 12.461067301712104, 2460610.5223419718, 0, 'orbit_fit')"
      ]
     },
     "execution_count": 8,
     "metadata": {},
     "output_type": "execute_result"
    }
   ],
   "source": [
    "x.dof, x.iters, x.csq, x.epoch, x.flag, x.method"
   ]
  },
  {
   "cell_type": "code",
   "execution_count": null,
   "id": "e76713e9",
   "metadata": {},
   "outputs": [],
   "source": [
    "x = routines.run_from_vector_with_ic(assist_ephem, x, obs_list[-200:])"
   ]
  },
  {
   "cell_type": "code",
   "execution_count": null,
   "id": "8883faac",
   "metadata": {},
   "outputs": [],
   "source": [
    "x = routines.run_from_vector_with_ic(assist_ephem, x, obs_list)"
   ]
  },
  {
   "cell_type": "code",
   "execution_count": null,
   "id": "8488443d",
   "metadata": {},
   "outputs": [],
   "source": [
    "x = routines.run_from_vector_with_ic(assist_ephem, x, obs_list)"
   ]
  },
  {
   "cell_type": "code",
   "execution_count": 12,
   "id": "80f47e86",
   "metadata": {},
   "outputs": [
    {
     "data": {
      "text/plain": [
       "<function _layup_cpp._core.PyCapsule.predict>"
      ]
     },
     "execution_count": 12,
     "metadata": {},
     "output_type": "execute_result"
    }
   ],
   "source": [
    "routines.predict"
   ]
  },
  {
   "cell_type": "code",
   "execution_count": null,
   "id": "b35c5b03",
   "metadata": {},
   "outputs": [],
   "source": []
  }
 ],
 "metadata": {
  "kernelspec": {
   "display_name": "Python 3 (ipykernel)",
   "language": "python",
   "name": "python3"
  },
  "language_info": {
   "codemirror_mode": {
    "name": "ipython",
    "version": 3
   },
   "file_extension": ".py",
   "mimetype": "text/x-python",
   "name": "python",
   "nbconvert_exporter": "python",
   "pygments_lexer": "ipython3",
   "version": "3.11.0"
  }
 },
 "nbformat": 4,
 "nbformat_minor": 5
}
