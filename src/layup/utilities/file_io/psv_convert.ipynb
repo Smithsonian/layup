{
 "cells": [
  {
   "cell_type": "code",
   "execution_count": null,
   "id": "e665bcd6",
   "metadata": {},
   "outputs": [],
   "source": [
    "import pandas as pd\n",
    "\n",
    "filename = \"/Users/drew/code/layup/tests/data/example.psv\"\n",
    "output_filepath = \"/Users/drew/code/layup/tests/data/example_no_whitespace.psv\"\n",
    "\n",
    "PRE_HEADER_COMMENT_AND_EXCLUDE_STRINGS = (\"#\", \"!\")"
   ]
  },
  {
   "cell_type": "code",
   "execution_count": null,
   "id": "780409fd",
   "metadata": {},
   "outputs": [],
   "source": [
    "# It's not necessary carry both of these variables, but it makes the logic a bit more clear.\n",
    "num_pre_header_lines = 0\n",
    "header_row_index = 0\n",
    "\n",
    "with open(filename) as fh:\n",
    "    for i, line in enumerate(fh):\n",
    "        # If the line starts with a comment character, increment the pre-header line count\n",
    "        if line.startswith(PRE_HEADER_COMMENT_AND_EXCLUDE_STRINGS):\n",
    "            # Skip comment lines\n",
    "            num_pre_header_lines += 1\n",
    "        else:\n",
    "            # Note - header row INDEX is 0-indexed.\n",
    "            header_row = line\n",
    "            header_row_index = num_pre_header_lines\n",
    "            break"
   ]
  },
  {
   "cell_type": "code",
   "execution_count": null,
   "id": "959c8693",
   "metadata": {},
   "outputs": [],
   "source": [
    "skip_rows = []\n",
    "if header_row_index > 0:\n",
    "    skip_rows = [i for i in range(0, header_row_index)]\n",
    "\n",
    "column_converters = {col_name: str.strip for col_name in header_row.strip().split(\"|\")}\n",
    "\n",
    "res_df = pd.read_csv(filename, sep=\"|\", skiprows=skip_rows, converters=column_converters)\n",
    "res_df.columns = [col.strip() for col in res_df.columns]"
   ]
  },
  {
   "cell_type": "code",
   "execution_count": null,
   "id": "fed4ba30",
   "metadata": {},
   "outputs": [],
   "source": [
    "with open(filename) as input_file:\n",
    "    with open(output_filepath, \"w\") as output_file:\n",
    "        # Write the pre-header comment lines to the output file\n",
    "        for _ in range(num_pre_header_lines):\n",
    "            output_file.write(input_file.readline())\n",
    "\n",
    "# Write the header and data to the output file.\n",
    "res_df.to_csv(output_filepath, sep=\"|\", mode=\"a\", index=False)"
   ]
  }
 ],
 "metadata": {
  "kernelspec": {
   "display_name": "layup",
   "language": "python",
   "name": "python3"
  },
  "language_info": {
   "codemirror_mode": {
    "name": "ipython",
    "version": 3
   },
   "file_extension": ".py",
   "mimetype": "text/x-python",
   "name": "python",
   "nbconvert_exporter": "python",
   "pygments_lexer": "ipython3",
   "version": "3.12.9"
  }
 },
 "nbformat": 4,
 "nbformat_minor": 5
}
