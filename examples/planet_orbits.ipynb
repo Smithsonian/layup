{
 "cells": [
  {
   "cell_type": "code",
   "execution_count": 1,
   "metadata": {},
   "outputs": [],
   "source": [
    "import numpy as np\n",
    "import assist\n",
    "from sorcha.ephemeris.simulation_geometry import equatorial_to_ecliptic\n",
    "from sorcha.ephemeris.orbit_conversion_utilities import universal_keplerian\n",
    "from astroquery.jplhorizons import Horizons\n",
    "\n",
    "np.set_printoptions(precision=14, linewidth=200, suppress=True)"
   ]
  },
  {
   "cell_type": "code",
   "execution_count": 2,
   "metadata": {},
   "outputs": [],
   "source": [
    "# dict of available planets and their corresponding SPICE IDs\n",
    "# NOTE: because of the way the default planet ephems are set up, the\n",
    "# body centers of each planet cannot be queried directly. instead, we\n",
    "# have to use the planetary system barycenters\n",
    "avail_planets = {\n",
    "    \"mercury\": 199,\n",
    "    \"venus\": 299,\n",
    "    \"earth\": 399,\n",
    "    \"mars\": 4,\n",
    "    \"jupiter\": 5,\n",
    "    \"saturn\": 6,\n",
    "    \"uranus\": 7,\n",
    "    \"neptune\": 8,\n",
    "}"
   ]
  },
  {
   "cell_type": "code",
   "execution_count": 3,
   "metadata": {},
   "outputs": [],
   "source": [
    "def get_planet_orbits(t_mjd_tdb):\n",
    "    ### constants (other users will need to modify assist_data_path)\n",
    "    # start by creating an assist ephem object for the planet ephemeris\n",
    "    assist_data_path = \"/Users/rahil/grad/random/assist/data\"\n",
    "    ephem = assist.Ephem(\n",
    "        f\"{assist_data_path}/linux_p1550p2650.440\",\n",
    "    )\n",
    "\n",
    "    # compute the ephemeris query time (MJD -> JD -> ASSIST time)\n",
    "    t_query = t_mjd_tdb + 2400000.5 - ephem.jd_ref\n",
    "    sun_query = ephem.get_particle(\"sun\", t_query)\n",
    "    sun_state = np.array(sun_query.xyz + sun_query.vxyz)\n",
    "    # get the orbits of the planets\n",
    "    pl_orbits = {}\n",
    "    # print(\"Orbits of the planets: sma[au], ecc, inc[radians], long. node.[radians], arg. peri.[radians], M[radians]\")\n",
    "    for body in avail_planets:\n",
    "        # get heliocentric equatorial state vector\n",
    "        body_query = ephem.get_particle(body, t_query)\n",
    "        equ_state = np.array(body_query.xyz + body_query.vxyz) - sun_state\n",
    "        # convert to heliocentric ecliptic state vector\n",
    "        ecl_pos = equatorial_to_ecliptic(equ_state[:3])\n",
    "        ecl_vel = equatorial_to_ecliptic(equ_state[3:])\n",
    "        # convert to keplerian elements\n",
    "        elems = np.array(universal_keplerian(sun_query.m, *ecl_pos, *ecl_vel, t_mjd_tdb))\n",
    "        # wrap elems[2:6] to [0,2pi]\n",
    "        elems[2:6] = np.mod(elems[2:6], 2 * np.pi)\n",
    "        pl_orbits[body] = tuple(float(el) for el in elems)\n",
    "    return pl_orbits"
   ]
  },
  {
   "cell_type": "code",
   "execution_count": 4,
   "metadata": {},
   "outputs": [
    {
     "name": "stderr",
     "output_type": "stream",
     "text": [
      "(ASSIST) The JPL asteroid ephemeris file has not been found. Asteroid forces have been disabled.\n"
     ]
    },
    {
     "name": "stdout",
     "output_type": "stream",
     "text": [
      "Horizons orbit of mercury: [0.38709821218416 0.20563029337056 0.12226056374145 0.84352702699409 0.50831460719944 3.05076367583143]\n",
      "Layup orbit of mercury: (0.387098254577587, 0.20563016180610422, 0.12226056374145156, 0.84352702699409, 0.508314656555072, 3.050763624960782)\n",
      "\n",
      "Horizons orbit of venus: [0.72332692747965 0.00675578625189 0.05924676613057 1.33829009340838 0.96317682556011 0.87466777308793]\n",
      "Layup orbit of venus: (0.7233287133824766, 0.006757353070801505, 0.059246766130575286, 1.3382900934083783, 0.9634571958675414, 0.8743873964358694)\n",
      "\n",
      "Horizons orbit of earth: [1.00044882893419 0.01711862906747 0.00000729737182 2.35760328954778 5.70248317823    6.25905187588486]\n",
      "Layup orbit of earth: (1.0004519384173047, 0.017121683034759975, 7.297386338709356e-06, 2.3576032945807794, 5.702478792047673, 6.259056257653747)\n",
      "\n",
      "Horizons orbit of mars: [1.52367899229846 0.09331510156051 0.03228643490644 0.8650201965175  5.00102073557554 0.33783436841111]\n",
      "Layup orbit of mars: (1.5236795776562282, 0.09331542799780052, 0.03228643490643917, 0.8650201965174953, 5.001022105342776, 0.33783299368239317)\n",
      "\n",
      "Horizons orbit of jupiter: [5.20426663072337 0.04877487762533 0.02277000825992 1.75390966327019 4.80080757001378 0.32844422492136]\n",
      "Layup orbit of jupiter: (5.20971944824854, 0.04971556713126717, 0.02277000825992399, 1.7539096632701878, 4.807605902640905, 0.3216384006472734)\n",
      "\n",
      "Horizons orbit of saturn: [9.58201717423652 0.05572339465749 0.04337580293181 1.98344386080393 5.86454408587235 5.59112474736542]\n",
      "Layup orbit of saturn: (9.584994993151156, 0.055945488396573435, 0.04337580293181169, 1.9834438608039273, 5.8609973300496865, 5.594676582770301)\n",
      "\n",
      "Horizons orbit of uranus: [19.22941660477798  0.04440552558428  0.01348384702922  1.29135892608623  1.68496999022633  2.49504855419064]\n",
      "Layup orbit of uranus: (19.230197698802645, 0.044371320420002754, 0.013483847029219486, 1.2913589260862346, 1.6855218197348627, 2.49449614094278)\n",
      "\n",
      "Horizons orbit of neptune: [30.10363964971507  0.01121514293584  0.03085718291292  2.30023689663868  4.63644875167742  4.67339352747068]\n",
      "Layup orbit of neptune: (30.105188740149526, 0.011212677874712557, 0.03085718291292631, 2.300236896638669, 4.631863139056054, 4.677979428752385)\n",
      "\n"
     ]
    }
   ],
   "source": [
    "# pick a time (use J2000 for now)\n",
    "t_mjd_tdb = 51544.5\n",
    "# get the orbits of the planets\n",
    "pl_orbits = get_planet_orbits(t_mjd_tdb)\n",
    "# now get the same orbits from horizons\n",
    "for body in avail_planets.keys():\n",
    "    obj = Horizons(id=avail_planets[body], location=\"@sun\", epochs=t_mjd_tdb + 2400000.5)\n",
    "    elems = obj.elements(refsystem=\"J2000\", refplane=\"ecliptic\")\n",
    "    keys = (\"a\", \"e\", \"incl\", \"Omega\", \"w\", \"M\")\n",
    "    hrzns_elems = np.array([float(elems[k].data[0]) for k in keys])\n",
    "    hrzns_elems[2:] *= np.pi / 180.0  # convert to radians\n",
    "    print(f\"Horizons orbit of {body}: {hrzns_elems}\")\n",
    "    print(f\"Layup orbit of {body}: {pl_orbits[body]}\\n\")"
   ]
  },
  {
   "cell_type": "code",
   "execution_count": null,
   "metadata": {},
   "outputs": [],
   "source": []
  }
 ],
 "metadata": {
  "kernelspec": {
   "display_name": "layup",
   "language": "python",
   "name": "python3"
  },
  "language_info": {
   "codemirror_mode": {
    "name": "ipython",
    "version": 3
   },
   "file_extension": ".py",
   "mimetype": "text/x-python",
   "name": "python",
   "nbconvert_exporter": "python",
   "pygments_lexer": "ipython3",
   "version": "3.11.11"
  }
 },
 "nbformat": 4,
 "nbformat_minor": 2
}
